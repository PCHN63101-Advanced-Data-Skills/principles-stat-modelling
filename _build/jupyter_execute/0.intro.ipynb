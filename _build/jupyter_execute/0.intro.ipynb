{
 "cells": [
  {
   "cell_type": "markdown",
   "id": "0aff9971-428c-4632-8dcc-2451ce81b45b",
   "metadata": {
    "tags": []
   },
   "source": [
    "# Introduction\n",
    "This lesson is all about understanding the core principles behind much of the content on the remainder of this course. These principles are fundamental for making sense of the framework we use for the vast majority of our statistical analyses. If these are not understood, you will be lost going forward. As such, it is vital that you study the ideas in this lesson as thoroughly as you can, as everything we will be doing in the future will assume that these are understood. We would encourage you to revisit this lesson periodically throughout the course as the more examples you are exposed to, the more this content will make sense. In effect, we want these ideas to become second nature to you as this is the mark of a strong and skilled data analyst. However, they will not necessarily all be intuitive to you on a first read. Learning is an iterative process. As such, we expect you to have a go at understanding everything in here, but recognise that much of it may only start to click once you see it in action across the following weeks. By the end of this module, you should be able to revisit this lesson and understand it thoroughly.  \n",
    "\n",
    "## Contents\n",
    "\n",
    "```{tableofcontents}\n",
    "```\n",
    "\n",
    "## About the Authors\n",
    "\n",
    "```{figure} images/martyn.jpeg\n",
    "---\n",
    "scale: 15%\n",
    "align: left\n",
    "---\n",
    "```\n",
    "\n",
    "**Dr Martyn McFarquhar | PhD FHEA**\n",
    "\n",
    "Lecturer in Neuroimaging\n",
    "\n",
    "4.33 Booth Street East | Division of Psychology, Communication and Human Neuroscience | School of Health Sciences | The University of Manchester M13 9PL\n",
    "\n",
    "t: +44 (0)161 275 2688 | e: [martyn.mcfarquhar@manchester.ac.uk](mailto:martyn.mcfarquhar@manchester.ac.uk)\n",
    "\n",
    "```{figure} images/george.jpg\n",
    "---\n",
    "scale: 80%\n",
    "align: right\n",
    "---\n",
    "```\n",
    "\n",
    "**Dr George Farmer | PhD**\n",
    "\n",
    "Lecturer \n",
    "\n",
    "... Dover Street Building | Division of Psychology, Communication and Human Neuroscience | School of Health Sciences | The University of Manchester M13 9PL\n",
    "\n",
    "t: +44 (0)161 275 ... | e: [george.farmer@manchester.ac.uk](mailto:george.farmer@manchester.ac.uk)"
   ]
  },
  {
   "cell_type": "code",
   "execution_count": null,
   "id": "0c8f2030-28a7-4a21-b24d-494a9a96b6b4",
   "metadata": {
    "vscode": {
     "languageId": "r"
    }
   },
   "outputs": [],
   "source": []
  }
 ],
 "metadata": {
  "kernelspec": {
   "display_name": "R",
   "language": "R",
   "name": "ir"
  },
  "language_info": {
   "codemirror_mode": "r",
   "file_extension": ".r",
   "mimetype": "text/x-r-source",
   "name": "R",
   "pygments_lexer": "r",
   "version": "4.3.3"
  }
 },
 "nbformat": 4,
 "nbformat_minor": 5
}