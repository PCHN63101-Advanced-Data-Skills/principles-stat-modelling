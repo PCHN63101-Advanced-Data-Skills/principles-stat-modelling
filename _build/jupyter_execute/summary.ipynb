{
 "cells": [
  {
   "cell_type": "markdown",
   "id": "7c4a964b-a2bc-4d77-b1e8-6928da6b2b73",
   "metadata": {},
   "source": [
    "# Summary\n",
    "This lesson represents the start of your journey into the world of statistical modelling. Rather than conceptualising statistics as a collection of loosely related ideas, the reality is that many of the approaches that you already known are part of a singular generalised framework. This framework revolves around the concept of modelling data in terms of a population distribution, mean function and variance function. Although these ideas may not feel very concrete yet, we will see many examples as we go further on this course. Little by little, this framework and this way of thinking will become second nature to you and the world of statistics will suddenly open up. In future weeks, we will work through some familiar analyses, but reframed in terms of statistical models. We have already seen one examples in this lesson in terms of simple regression, but will expand this to encompass multiple regression, $t$-tests, one-way ANOVA, multi-way ANOVA and ANCOVA. As we will see, all these analyses are *effectively the same*. Viewing them within this framework will therefore consolidate all these analyses into a single approach. This makes the understanding of these methods much simpler, but also makes their application much more powerful. "
   ]
  },
  {
   "cell_type": "markdown",
   "id": "06114741",
   "metadata": {},
   "source": [
    "## Quiz\n",
    "Use the quiz below to check your understanding of the topics from this lesson\n",
    "\n",
    "<iframe width=\"700px\" height=\"800px\" src=\"https://forms.cloud.microsoft/e/2Kyw8sM86W?embed=true\"> </iframe>"
   ]
  },
  {
   "cell_type": "markdown",
   "id": "f0a5d7b0",
   "metadata": {},
   "source": []
  }
 ],
 "metadata": {
  "kernelspec": {
   "display_name": "R",
   "language": "R",
   "name": "ir"
  },
  "language_info": {
   "codemirror_mode": "r",
   "file_extension": ".r",
   "mimetype": "text/x-r-source",
   "name": "R",
   "pygments_lexer": "r",
   "version": "4.3.3"
  }
 },
 "nbformat": 4,
 "nbformat_minor": 5
}