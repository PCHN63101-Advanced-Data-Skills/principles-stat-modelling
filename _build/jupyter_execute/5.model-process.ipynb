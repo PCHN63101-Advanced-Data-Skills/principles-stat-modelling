{
 "cells": [
  {
   "cell_type": "markdown",
   "id": "f7e57689",
   "metadata": {},
   "source": [
    "# The Modelling Process\n",
    "Taken all together, the modelling process involves first selecting a form for the population distribution and then defining both a *mean function* and a *variance function* that connects the mean and variance of the assumed distribution to the predictor variables. These functions may involve further *model parameters* that  \n",
    "\n",
    "```{figure} images/modelling-complete-v.png\n",
    "---\n",
    "scale: 50%\n",
    "align: right\n",
    "---\n",
    "```"
   ]
  },
  {
   "cell_type": "markdown",
   "id": "f6996ab6",
   "metadata": {},
   "source": [
    "\n",
    "## Models in Theory vs Models in Practice\n",
    "Although we have presented a very flexible framework within this lesson, the reality is that we very rarely get to choose our own population distribution, mean function and variance function. Instead, we have a corpus of pre-specified models to choose from. This is largely because models need to be *tractable* and *practical*, particularly in terms of parameter estimation and statistical inference. As such, the framework we have presented is largely there for *understanding* the models that already exist, rather than as a framework for building brand new models. The degree of flexibility required to have full control over all the model elements is usually only practical within a Bayesian framework, wheres Frequentist methods are much more restrictive. As such, it is important to recognise that we will be working with models where the population distribution, mean function and variance function have already been decided for us. Our job is simply to make a choice in terms of which model will work better for us in any given situation."
   ]
  },
  {
   "cell_type": "markdown",
   "id": "bc93ea11",
   "metadata": {},
   "source": [
    "\n",
    "## Separating Specification from Estimation and Inference\n",
    "Given what we can see in Fig..., this lesson has focussed on the elements of *model specification*. Next week, we will be focussing on simple and multiple linear regression. In doing so, we will discuss both *model estimation* and *inference*, within a regression context. One particular reason for splitting these topics up is that model *specification* is a generic process that is applicable across many different contexts. For instance, both traditional statistical methods and Bayesian methods agree on this element of modelling. However, where methods disagree is usual in terms of the methods of *estimation* and the apporoaches to *inference*. As such, it is useful to draw a conceptual line between these topics."
   ]
  },
  {
   "cell_type": "markdown",
   "id": "ba05f671",
   "metadata": {},
   "source": [
    "\n",
    "`````{topic} Section Summary\n",
    "In this section, we have explored the general framework under which the vast majority of analyses in this course will be based.\n",
    "`````"
   ]
  },
  {
   "cell_type": "markdown",
   "id": "84c863cb",
   "metadata": {},
   "source": [
    "[^constant-foot]: This may seem a bit of a stretch, as you might think it would be more reasonable to assume that the parameters of a population may shift around over time. This is actually one of the assumptions that differs between classical and Bayesian methods, as we will see later on the course. However, referring back to the idea of a *model*, this is a useful simplification that serves to make the mathematics easier and the model more tractable."
   ]
  },
  {
   "cell_type": "markdown",
   "id": "b92148ce",
   "metadata": {},
   "source": []
  }
 ],
 "metadata": {
  "kernelspec": {
   "display_name": "R",
   "language": "R",
   "name": "ir"
  },
  "language_info": {
   "codemirror_mode": "r",
   "file_extension": ".r",
   "mimetype": "text/x-r-source",
   "name": "R",
   "pygments_lexer": "r",
   "version": "4.5.0"
  }
 },
 "nbformat": 4,
 "nbformat_minor": 5
}