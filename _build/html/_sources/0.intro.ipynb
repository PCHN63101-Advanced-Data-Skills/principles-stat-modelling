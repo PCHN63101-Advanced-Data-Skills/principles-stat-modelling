{
 "cells": [
  {
   "cell_type": "markdown",
   "id": "0aff9971-428c-4632-8dcc-2451ce81b45b",
   "metadata": {
    "tags": []
   },
   "source": [
    "# Introduction\n",
    "Traditional approaches to teaching statistics within the behaviour sciences tend to view the discipline as a loosely-related collection of methods, with complex decision trees needed in order to understand how to analyse a particular dataset. The reality, however, is that the vast majority of statistical analyses are part of a singular generic whole. This is encompassed by the concept of a *statistical model*, as different analyses simply involve changing certain elements of a model, whilst leaving all other aspects the same. The advantage of viewing statistics this way allows for a deep appreciation of the *connection* between seemingly different analysis approaches. Furthermore, the steps involved in the analysis and the assumptions underlying the analysis are the *same*, irrespective of the specific model used. This allows for a *consolidation* of ideas into a single unifying framework that can be applied to a wide variety of datasets. Understanding this framework is one of the best things you can do to elevate your skills as an experimental psychologist, allowing for a flexible and widely-applicable approach to statistical analysis.  \n",
    "\n",
    "This lesson is about the core principles you need to understand in order to full appreciate this singular unifying framework. As such, it is vital that you study the ideas in this lesson as thoroughly as you can. This will necessarily be somewhat abstract at present, but the aim is to make this more concrete in the coming weeks as we see more examples. Because of this, we would encourage you to revisit this lesson periodically throughout the course as the more examples you are exposed to, the more this content will make sense. We want these ideas to become second nature to you, as this is the mark of a strong and skilled data analyst. However, they will not necessarily all be intuitive to you on a first read. Learning is an iterative process, so we expect you to have a go at understanding everything in here, but recognise that much of it may only start to click once you see it in action. By the end of this module, you should be able to revisit this lesson and understand it thoroughly.\n",
    "\n",
    "## Contents\n",
    "\n",
    "```{tableofcontents}\n",
    "```\n",
    "\n",
    "## About the Authors\n",
    "<br/>\n",
    "\n",
    "```{figure} images/martyn.jpeg\n",
    "---\n",
    "scale: 15%\n",
    "align: right\n",
    "---\n",
    "```\n",
    "\n",
    "**Dr Martyn McFarquhar | PhD FHEA**\n",
    "\n",
    "Lecturer in Neuroimaging\n",
    "\n",
    "4.33 Booth Street East | Division of Psychology, Communication and Human Neuroscience | School of Health Sciences | The University of Manchester M13 9PL\n",
    "\n",
    "t: +44 (0)161 275 2688 | e: [martyn.mcfarquhar@manchester.ac.uk](mailto:martyn.mcfarquhar@manchester.ac.uk)\n",
    "<br/>\n",
    "<br/>\n",
    "<br/>\n",
    "\n",
    "```{figure} images/george.jpg\n",
    "---\n",
    "scale: 80%\n",
    "align: left\n",
    "---\n",
    "```\n",
    "\n",
    "**Dr George Farmer | PhD**\n",
    "\n",
    "Lecturer \n",
    "\n",
    "... Dover Street Building | Division of Psychology, Communication and Human Neuroscience | School of Health Sciences | The University of Manchester M13 9PL\n",
    "\n",
    "t: +44 (0)161 275 ... | e: [george.farmer@manchester.ac.uk](mailto:george.farmer@manchester.ac.uk)"
   ]
  },
  {
   "cell_type": "code",
   "execution_count": null,
   "id": "0c8f2030-28a7-4a21-b24d-494a9a96b6b4",
   "metadata": {
    "vscode": {
     "languageId": "r"
    }
   },
   "outputs": [],
   "source": []
  }
 ],
 "metadata": {
  "kernelspec": {
   "display_name": "R",
   "language": "R",
   "name": "ir"
  },
  "language_info": {
   "codemirror_mode": "r",
   "file_extension": ".r",
   "mimetype": "text/x-r-source",
   "name": "R",
   "pygments_lexer": "r",
   "version": "4.3.3"
  }
 },
 "nbformat": 4,
 "nbformat_minor": 5
}
