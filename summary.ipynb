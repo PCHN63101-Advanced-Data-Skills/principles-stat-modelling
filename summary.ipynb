{
 "cells": [
  {
   "cell_type": "markdown",
   "id": "7c4a964b-a2bc-4d77-b1e8-6928da6b2b73",
   "metadata": {},
   "source": [
    "# Summary\n",
    "In this lesson, we have covered quite a wide range of topics in order to formalise our understanding of statistical models. Some of this information may have been familiar, whereas other parts may have been brand new. As indicated at the start of this lesson, it may take some time for all of this to sink-in and for this perspective on statistics to be fully understood. Even if you do not feel confident with all the ideas presented in this lesson, do not worry. We will start to see examples within the coming weeks that will help make some of the abstract concepts presented here more concrete. It is advisable to return to this lesson periodically to make sure that you still have a handle on all these ideas, once more examples have been presented to you. Slowly but surely, these ideas should start to solidify in your mind. In future weeks, we will work through some familiar analyses, but reframed in terms of statistical models. We have already seen one examples in this lesson in terms of simple regression, but will expand this to encompass multiple regression, $t$-tests, one-way ANOVA, multi-way ANOVA and ANCOVA. As we will see, all these analyses are *effectively the same*. Viewing them within the framework of statistical models will consolidate all these analyses into a single approach. This will make the understanding of these methods much simpler and, most importantly, make the application of these methods much more powerful. "
   ]
  },
  {
   "cell_type": "markdown",
   "id": "06114741",
   "metadata": {
    "tags": [
     "remove-cell"
    ]
   },
   "source": [
    "## Quiz\n",
    "Use the quiz below to check your understanding of the topics from this lesson\n",
    "\n",
    "<iframe width=\"700px\" height=\"800px\" src=\"https://forms.cloud.microsoft/e/2Kyw8sM86W?embed=true\"> </iframe>"
   ]
  },
  {
   "cell_type": "markdown",
   "id": "f0a5d7b0",
   "metadata": {},
   "source": []
  }
 ],
 "metadata": {
  "kernelspec": {
   "display_name": "R",
   "language": "R",
   "name": "ir"
  },
  "language_info": {
   "codemirror_mode": "r",
   "file_extension": ".r",
   "mimetype": "text/x-r-source",
   "name": "R",
   "pygments_lexer": "r",
   "version": "4.3.3"
  }
 },
 "nbformat": 4,
 "nbformat_minor": 5
}
