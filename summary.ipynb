{
 "cells": [
  {
   "cell_type": "markdown",
   "id": "7c4a964b-a2bc-4d77-b1e8-6928da6b2b73",
   "metadata": {},
   "source": [
    "# Summary"
   ]
  },
  {
   "cell_type": "markdown",
   "id": "f895671d",
   "metadata": {},
   "source": [
    "## Further Reading\n"
   ]
  },
  {
   "cell_type": "markdown",
   "id": "06114741",
   "metadata": {},
   "source": [
    "## Quiz\n",
    "Use the quiz below to check your understanding of the topics from this lesson\n",
    "\n",
    "<iframe width=\"800px\" height=\"800px\" src=\"https://forms.cloud.microsoft/e/2Kyw8sM86W?embed=true\" frameborder=\"0\" marginwidth=\"0\" marginheight=\"0\" style=\"border: none; max-width:100%; max-height:100vh\" allowfullscreen webkitallowfullscreen mozallowfullscreen msallowfullscreen> </iframe>"
   ]
  },
  {
   "cell_type": "markdown",
   "id": "f0a5d7b0",
   "metadata": {},
   "source": []
  }
 ],
 "metadata": {
  "kernelspec": {
   "display_name": "R",
   "language": "R",
   "name": "ir"
  },
  "language_info": {
   "codemirror_mode": "r",
   "file_extension": ".r",
   "mimetype": "text/x-r-source",
   "name": "R",
   "pygments_lexer": "r",
   "version": "4.3.3"
  }
 },
 "nbformat": 4,
 "nbformat_minor": 5
}
