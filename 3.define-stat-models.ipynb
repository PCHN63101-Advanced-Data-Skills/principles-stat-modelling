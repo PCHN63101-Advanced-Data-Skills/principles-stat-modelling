{
 "cells": [
  {
   "cell_type": "markdown",
   "id": "d4cad224",
   "metadata": {},
   "source": [
    "# Defining a Statistical Model\n",
    "In the previous section, we saw how a probability distribution can be used as a *model* of the data-generating process. We will now take this idea a little further to understand the notion of a *parametric statistical model*. This is a foundational idea that captures the vast majority of statistical analyses we will learn about on this course. This is the framework upon which we will be building and will provide the structure to see all statistical analyses as part of a very general whole. This is where we take a step away from statistics being a \"bag of tricks\" and instead view statistical analyses as many specialisations of the same idea. "
   ]
  },
  {
   "cell_type": "markdown",
   "id": "93c2a1a6",
   "metadata": {},
   "source": [
    "## What is a Model?\n",
    "\n",
    "```{figure} images/toy-train.jpg\n",
    "---\n",
    "scale: 40%\n",
    "align: right\n",
    "---\n",
    "```\n",
    "\n",
    "To begin with, we should make sure we are clear on what a *model* is. Much like the more general use of the word, a *model* is a representation of reality, but usually one that represents a *simplification* of a reality. A model train is not a train, it is a simplified representation of a train. It can perform the basic operations of train (i.e. moving along a track), but it cannot fulfill all the same duties as a real train. Nevertheless, the model capture something *fundamental* about a train, even if it is not exactly the same. \n",
    "\n",
    "In much the same way, a *mathematical model* is a representation of reality that is a *simplification* but, we hope, captures something *fundamental* about reality. In order to do so, the model must be able to explain the data we can observe, but also make predictions that can be tested. We have already seen how a probability distribution can achieve this. We can explain the variation that we see in real data via the distribution's shape and scale, which are controlled by the expected value and variance of the distribution. We can also make future predictions via reference to the expected value, with the variance telling us how accurate these prediction will be. "
   ]
  },
  {
   "cell_type": "markdown",
   "id": "732fbb67",
   "metadata": {},
   "source": [
    "## Parametric Models\n",
    "You may already be familiar with the notion of a *parametric* statistical model. On this course, we will mostly be concerned with parametric models, as these are the most widely used and (if their assumptions are true) the most powerful. In essence, this form of model uses a probability distribution to represent the *population* from which we are sampling our data. The parameters of this distribution are considered *constants*. This means that they do not change across different samples and their values are fixed in place. In this way, we see them as representing some ultimate truth of nature[^constant-foot]. The general aim of any experiment is to gather enough samples so that we can estimate these population parameters with some degree of accuracy. Hence, the aim of *parametric* statistical methods is to estimate the values of the *parameters of the population distribution*. The term is therefore intimately tied to the notion of the *parameters* of a probability distribution. For instance, if a parametric method assumes a normal distribution, then our general aim is to estimate the values of the *mean* and *variance*."
   ]
  },
  {
   "cell_type": "markdown",
   "id": "9412f986",
   "metadata": {
    "tags": [
     "remove-cell"
    ]
   },
   "source": [
    "\n",
    "By comparison, a *non-parametric* statistical model does not assume any particular distributional form and thus is not concerned with estimating the values of a distribution's parameters. Traditionally, such methods were designed for cases where the data did not appear to come from the assumed distribution, but the analyst still desired a non-parametric equivalent to well-known tests. For instance, [Friedman's ANOVA](https://en.wikipedia.org/wiki/Friedman_test) provides a non-parametric equivalent to a repeated-measures ANOVA. More modern non-parametric methods take advantage of modern computational power by effectively *simulating* results without having to assume any particular distributional form. These methods of *resampling* include the Bootstrap, Jackknife and the Permutation Test. However, our focus is on traditional *parametric* methods. "
   ]
  },
  {
   "cell_type": "markdown",
   "id": "128ae966",
   "metadata": {},
   "source": [
    "### The Analogy of the Shadow\n",
    "One way of understanding the basic principles of a statistical model is using the analogy of an object casting a shadow. The object is the thing we are most interested in observing, however, we can only learn about its shape and dimensions by studying its shadow. As the sun moves through the sky, the shadow changes. Because of this, each time we study the shadow some elements will be slightly different. Furthermore, the shadow is not a perfect representation of the object, it is distorted and will not be able to represent all the complexity of the object in question. However, if we take enough observations of the shadow we should be able to reach some reasonable conclusions about the object casting the shadow. In this analogy, the object is the population we are trying to study, whereas the shadow is the data we sample. \n",
    "\n",
    "Although we cannot directly observe the object, we can learn about it by studying the shadow. However, this is a very difficult task, particularly if the object in question is some complex 3D shape (like a statue or sculpture). In order to make this easier, we make some simplifying assumption about its shape. Say, we assume the object can be represented by a cylinder. This is our *model* of the object. Much like a probability distribution, we know this is a simplification, but we hope it will be close enough to be *useful*. By doing so, we reduce what we want to learn about the object to its *radius* and *height*, as this is all we need to calculate many different properties of a cylinder. From there, we use multiple observations of the shadow to estimate what the radius and height might be. Once we are confident we have a good estimate of these parameters, we can complete our model and reach conclusions about the general dimensions of the object.\n",
    "\n",
    "```{figure} images/shadow-analogy.png\n",
    "---\n",
    "scale: 60%\n",
    "align: left\n",
    "---\n",
    "```\n",
    "\n",
    "We could, of course, choose a more complex model to represent the object in an attempt to learn about more of its subtle geometric properties. As we work through this course, much of what we will be learning is increasing model complexity designed to capturing more subtle elements of the population in question. We will start with simple models and then increae the complexity, like going from a basic cylinder to a complex 3D mesh of polygons. With greater complexity comes greater difficulty in estimating the parameters and greater difficulty in understanding the model. However, the aim is to do a better job of capturing the population without making too many simplifications. This is the art of *model building*. We desire a model that is complex enough to accurately capture the elements of the population that are of most interest, but no more. We do not expect a model to be *perfect*, but we do want it to have some utility in answering our experimental questions, a sentiment echoed in a famous quote by [George Box](https://en.wikipedia.org/wiki/George_E._P._Box).\n",
    "\n",
    "```{epigraph}\n",
    "All models are wrong, but some are useful.\n",
    "\n",
    "-- George E. P. Box\n",
    "```"
   ]
  },
  {
   "cell_type": "markdown",
   "id": "10c1bcd8",
   "metadata": {},
   "source": [
    "## Non-parametric Models\n",
    "Before moving on, it is also important to recognise the existance of *non-parametric* models as well. Whilst a *parametric* model is concerned with estimating the population parameters of a given probability distribution, a *non-parametric* method does no assume any specific form of population distribution and thus is not based on estimating any form of parameters from this distribution. Although this may sound advantageous, these methods are traditionally not as powerful as their parametric counterparts. Often, these methods are presented as alternatives to parametric methods for cases when the data does not adequately conform to the parametric assumptions. For instance, Friedman's ANOVA is an alternative to a traditional repeated-measures ANOVA. These classical approaches are also less flexible than their parametric counsins and thus tended to be used as a \"last resort\" when a parametric method just could not be justified. However, more modern non-parametric approaches are based on *simulating* distributions using the data we have collected. These methods are known as *resampling* and include the bootstrap, jackknife and permutation test. Compared to older non-parametric methods, these approaches are highly flexible and powerful. Nevertheless, they are not used as commonly as the traditional parametric approaches due to their computational burden and a lack of appreciation for these approaches within applied fields. On this course, our focus will largely be on parametric methods, but it is important to appreciate that alternatives do exist that can, under certain circumstances, be superior to the more traditional approaches."
   ]
  },
  {
   "cell_type": "markdown",
   "id": "6aa90eb2",
   "metadata": {},
   "source": [
    "`````{topic} What do you now know?\n",
    "In this section, we have explored the concept of a *statistical model* in a descriptive and non-formal fashion. After reading this section, you should have a good sense of:\n",
    "\n",
    "- What a model *is*, particularly thinking about its relation to the more common-language use of the term.\n",
    "- What it means for a model to be *parameteric* -- what precisely does the word *parametric* mean in this context?\n",
    "- How the analogy of the shadow can be used to understand the nature of a model and how it relates to trying to understand a *population*.\n",
    "- What George Box meant by \"All models are wrong, but some are useful\".\n",
    "- What it means for a model to be *non-parametric*.\n",
    "`````"
   ]
  },
  {
   "cell_type": "markdown",
   "id": "84c863cb",
   "metadata": {},
   "source": [
    "[^constant-foot]: This may seem a bit of a stretch, as you might think it would be more reasonable to assume that the parameters of a population may shift around over time. This is actually one of the assumptions that differs between classical and Bayesian methods, as we will see later on the course. However, referring back to the idea of a *model*, this is a useful simplification that serves to make the mathematics easier and the model more tractable."
   ]
  },
  {
   "cell_type": "markdown",
   "id": "b92148ce",
   "metadata": {},
   "source": []
  }
 ],
 "metadata": {
  "kernelspec": {
   "display_name": "R",
   "language": "R",
   "name": "ir"
  },
  "language_info": {
   "codemirror_mode": "r",
   "file_extension": ".r",
   "mimetype": "text/x-r-source",
   "name": "R",
   "pygments_lexer": "r",
   "version": "4.5.0"
  }
 },
 "nbformat": 4,
 "nbformat_minor": 5
}
