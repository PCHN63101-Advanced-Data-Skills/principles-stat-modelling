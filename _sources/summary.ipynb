{
 "cells": [
  {
   "cell_type": "markdown",
   "id": "7c4a964b-a2bc-4d77-b1e8-6928da6b2b73",
   "metadata": {},
   "source": [
    "# Summary"
   ]
  },
  {
   "cell_type": "markdown",
   "id": "f895671d",
   "metadata": {},
   "source": [
    "## Further Reading\n"
   ]
  },
  {
   "cell_type": "markdown",
   "id": "06114741",
   "metadata": {},
   "source": [
    "## Quiz\n",
    "Use the quiz below to check your understanding of the topics from this lesson"
   ]
  }
 ],
 "metadata": {
  "kernelspec": {
   "display_name": "R",
   "language": "R",
   "name": "ir"
  },
  "language_info": {
   "codemirror_mode": "r",
   "file_extension": ".r",
   "mimetype": "text/x-r-source",
   "name": "R",
   "pygments_lexer": "r",
   "version": "4.3.3"
  }
 },
 "nbformat": 4,
 "nbformat_minor": 5
}
